{
 "cells": [
  {
   "cell_type": "markdown",
   "metadata": {},
   "source": [
    "### 1. En una universidad, se sabe que el 25% de los alumnos realizan algún tipo de deporte. Se ha obtenido una muestra de 30 alumnos.\n",
    "\n",
    "### a) Si llamamos X a la variable aleatoria que cuenta el número de alumnos que realizan algún tipo de deporte, ¿qué tipo de distribución sigue X?\n",
    "Una binomial ya se sabe que el 25% de los alumnos hacen deporte, es decir se sabe cuantos existos tenemos antes del primer fallo.\n",
    "B(30, 0.25)\n",
    "\n",
    "### b) ¿Qué esperanza tiene X?\n",
    "E(X) = 30 * 0.25 = 7.5\n",
    "\n",
    "### c) ¿Y varianza?\n",
    "Var(X) = 30 * 0.25 * 0.75 = 5.625\n",
    "\n",
    "### d) Calcula con R (o Python) la probabilidad de que más de 25 alumnos practiquen algún deporte.\n",
    "\n",
    "\n",
    "### e) Calcula con R (o Python) la probabilidad de que exactamente 15 alumnos practiquen algún deporte.\n",
    "\n",
    "### f) Calcula con R (o Python) la probabilidad de que de 10 alumnos o menos practiquen algún deporte."
   ]
  },
  {
   "cell_type": "code",
   "execution_count": 1,
   "metadata": {},
   "outputs": [],
   "source": [
    "from scipy.stats import binom"
   ]
  },
  {
   "cell_type": "code",
   "execution_count": 2,
   "metadata": {},
   "outputs": [],
   "source": [
    "rv1 = binom(30, 0.25)"
   ]
  },
  {
   "cell_type": "code",
   "execution_count": 4,
   "metadata": {},
   "outputs": [
    {
     "data": {
      "text/plain": [
       "2.0239365738916604e-12"
      ]
     },
     "execution_count": 4,
     "metadata": {},
     "output_type": "execute_result"
    }
   ],
   "source": [
    "1 - rv1.cdf(25)"
   ]
  },
  {
   "cell_type": "code",
   "execution_count": 5,
   "metadata": {},
   "outputs": [
    {
     "data": {
      "text/plain": [
       "0.9991810108553227"
      ]
     },
     "execution_count": 5,
     "metadata": {},
     "output_type": "execute_result"
    }
   ],
   "source": [
    "rv1.cdf(15)"
   ]
  },
  {
   "cell_type": "code",
   "execution_count": 6,
   "metadata": {},
   "outputs": [
    {
     "data": {
      "text/plain": [
       "0.8942718773073399"
      ]
     },
     "execution_count": 6,
     "metadata": {},
     "output_type": "execute_result"
    }
   ],
   "source": [
    "rv1.cdf(10)"
   ]
  },
  {
   "cell_type": "markdown",
   "metadata": {},
   "source": [
    "### 2. El número medio de accidentes de coche en la ciudad de Mahón en 2 meses es de 2 accidentes.\n",
    "\n",
    "### a) ¿Qué distribución sigue la v.a. que cuenta el número de accidentes en 2 meses?\n",
    "Po(2)\n",
    "\n",
    "### b) Calcula la esperanza\n",
    "E(X) = 2\n",
    "\n",
    "### c) Calcula con R (o Python) la probabilidad de que no ocurra ningún accidente en 2 meses."
   ]
  },
  {
   "cell_type": "code",
   "execution_count": 10,
   "metadata": {},
   "outputs": [
    {
     "data": {
      "text/plain": [
       "0.8646647167633873"
      ]
     },
     "execution_count": 10,
     "metadata": {},
     "output_type": "execute_result"
    }
   ],
   "source": [
    "from scipy.stats import poisson\n",
    "rv2 = poisson(2)\n",
    "1 - rv2.cdf(0)"
   ]
  },
  {
   "cell_type": "markdown",
   "metadata": {},
   "source": [
    "### 3. El 40% de un pueblo a las afueras de la ciudad de Pensilvania ve un concurso que dan por la tele. El concurso llama por teléfono a 15 personas del pueblo elegidas al azar. ¿De qué distribución se trata?\n",
    "B(15, 0.4)"
   ]
  },
  {
   "cell_type": "markdown",
   "metadata": {},
   "source": [
    "### 4. En un bol muy grande tenemos, en total, 70 fresas, de entre las cuales 10 están podridas. Tomando un puñado de 20 fresas al azar y sin reemplazar ninguna de ellas, ¿qué distribución sigue la v.a. que cuenta el número de fresas podridas?\n",
    "H(10, 60, 20)\n",
    "\n",
    "### Da también la esperanza y la varianza de esta variable aleatoria.\n",
    "E(X) = 2.85\n",
    "\n",
    "Var(X) = 1.768\n"
   ]
  },
  {
   "cell_type": "markdown",
   "metadata": {},
   "source": [
    "### 5. Un test de matemáticas consta de 200 preguntas de verdadero o falso. Para una persona que respondiese al azar, ¿qué distribución seguiría la v.a. que cuenta el número de preguntas acertadas?\n",
    "B(200, 0.5)\n",
    "\n",
    "### Da también la esperanza y la varianza de esta variable aleatoria.\n",
    "E(X) = 100\n",
    "\n",
    "Var(X) = 50"
   ]
  },
  {
   "cell_type": "markdown",
   "metadata": {},
   "source": [
    "### 6. Un test de matemáticas consta de 200 preguntas. Cada pregunta consta de 4 posibles respuestas con solo una correcta. Para una persona que respondiese al azar, ¿qué distribución seguiría la v.a. que cuenta el número de preguntas acertadas?\n",
    "B(200, 0.25)\n",
    "\n",
    "### Da también la esperanza y la varianza de esta variable aleatoria.\n",
    "E(X) = 50\n",
    "\n",
    "Var(X) = 37.5\n"
   ]
  },
  {
   "cell_type": "markdown",
   "metadata": {},
   "source": [
    "### 7. Un test de matemáticas consta de 200 preguntas de verdadero o falso. Para una persona que respondiese al azar y por orden, ¿qué distribución seguiría la v.a. que cuenta el número de preguntas respondidas hasta el primer acierto?\n",
    "Ge(0.5)\n",
    "\n",
    "### Da también la esperanza y la varianza de esta variable aleatoria.\n",
    "E(X) = 2\n",
    "\n",
    "Var(X) = 2"
   ]
  },
  {
   "cell_type": "markdown",
   "metadata": {},
   "source": [
    "### 8. Para evitar ser arrestado al pasar el control de seguridad, un viajero ha colocado 7 pastillas de droga en una botella que contiene 14 píldoras de vitaminas, las cuales son muy similares a las otras. Si el policía de turno selecciona 4 pastillas aleatoriamente para analizarlas, ¿qué distribución sigue la v.a. que cuenta el número de pastillas de droga?\n",
    "\n",
    "H(7, 14, 4)"
   ]
  },
  {
   "cell_type": "markdown",
   "metadata": {},
   "source": [
    "### 9. Un servicio dedicado a la reparación de aires acondicionados recibe de media 27 llamadas diarias. ¿Qué distribución sigue la v.a. que cuenta el número de llamadas diarias?\n",
    "Po(27)"
   ]
  },
  {
   "cell_type": "markdown",
   "metadata": {},
   "source": [
    "### 10. Se lanza 53 veces un dado. \n",
    "\n",
    "### ¿Qué distribución sigue la v.a. que cuenta cuántas veces ha salido un número impar? \n",
    "\n",
    "B(53, 0.5)\n",
    "\n",
    "### ¿Y la v.a. que cuenta el número de veces que ha salido un número par? \n",
    "B(53, 0.5)\n",
    "\n",
    "### ¿Y la v.a. que cuenta las veces que hemos obtenido exactamente el número \"5\"?\n",
    "B(53, 0.16)\n"
   ]
  },
  {
   "cell_type": "markdown",
   "metadata": {},
   "source": [
    "### 11. El precio medio del litro de gasolina durante el próximo año se estima que puede oscilar entre 1.09€ y 2.53€. ¿De qué distribución de probabilidad se trata?\n",
    "\n",
    "U(1.09, 2.53)\n",
    "\n",
    "### Da la esperanza\n",
    "\n",
    "E(X) = 1.81"
   ]
  },
  {
   "cell_type": "markdown",
   "metadata": {},
   "source": [
    "### 12. En una tienda del centro comercial, el tiempo medio de cola para poder pagar en caja es de 7 minutos. ¿De qué distribución de probabilidad se trata?\n",
    "\n",
    "Exp(7)\n",
    "\n",
    "### Da la esperanza y varianza\n",
    "\n",
    "E(X) = 0.14\n",
    "\n",
    "Var(X) = 0.07"
   ]
  },
  {
   "cell_type": "code",
   "execution_count": null,
   "metadata": {},
   "outputs": [],
   "source": []
  }
 ],
 "metadata": {
  "kernelspec": {
   "display_name": "Python 3",
   "language": "python",
   "name": "python3"
  },
  "language_info": {
   "codemirror_mode": {
    "name": "ipython",
    "version": 3
   },
   "file_extension": ".py",
   "mimetype": "text/x-python",
   "name": "python",
   "nbconvert_exporter": "python",
   "pygments_lexer": "ipython3",
   "version": "3.8.5"
  }
 },
 "nbformat": 4,
 "nbformat_minor": 4
}
