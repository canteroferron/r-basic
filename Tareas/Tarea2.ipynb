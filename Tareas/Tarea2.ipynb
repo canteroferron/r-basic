{
 "cells": [
  {
   "cell_type": "markdown",
   "metadata": {},
   "source": [
    "1. Escribe una secuencia de instrucciones que permitan leer un número real por pantalla y que muestre si el número es positivo o no."
   ]
  },
  {
   "cell_type": "code",
   "execution_count": 2,
   "metadata": {},
   "outputs": [
    {
     "name": "stdout",
     "output_type": "stream",
     "text": [
      "Escribe un número:-9\n",
      "El numero es negativo\n"
     ]
    }
   ],
   "source": [
    "x = int(input(\"Escribe un número:\"))\n",
    "if (x > 0):\n",
    "    print(\"El numero es positivo\")\n",
    "else:\n",
    "    print(\"El numero es negativo\")"
   ]
  },
  {
   "cell_type": "markdown",
   "metadata": {},
   "source": [
    "2. Escribe una secuencia de instrucciones que permitan leer un número real por pantalla y que muestre si el número está en el rango entre -5 y 5"
   ]
  },
  {
   "cell_type": "code",
   "execution_count": null,
   "metadata": {},
   "outputs": [],
   "source": [
    "x = int(input(\"Escribe un número:\"))\n",
    "if (x >= -5 and x <= 5):\n",
    "    print(\"El numero se encuentra en el rango (-5, 5)\")\n",
    "else:\n",
    "    print(\"El numero NO se encuentra en el rango (-5, 5)\")"
   ]
  },
  {
   "cell_type": "markdown",
   "metadata": {},
   "source": [
    "3. Escribe una secuencia de instrucciones que permitan leer dos números enteros y muestre el cociente de la división entera y el resto."
   ]
  },
  {
   "cell_type": "code",
   "execution_count": null,
   "metadata": {},
   "outputs": [],
   "source": [
    "import math\n",
    "x = int(input(\"Escribe un número:\"))\n",
    "y = int(input(\"Escribe un número:\"))\n",
    "\n",
    "x / y\n",
    "math.fmod(x, y)"
   ]
  },
  {
   "cell_type": "markdown",
   "metadata": {},
   "source": [
    "4. Escribe una secuencia de instrucciones que permitan leer las coordenadas de un punto (x, y) e indique en cuál de los cuatro cuadrantes se encuentra dicho punto."
   ]
  },
  {
   "cell_type": "code",
   "execution_count": 3,
   "metadata": {},
   "outputs": [
    {
     "name": "stdout",
     "output_type": "stream",
     "text": [
      "Escriba las coordenada X 5\n",
      "Escriba las coordenada Y 2\n",
      "Cuadrante Q1\n"
     ]
    }
   ],
   "source": [
    "coordX = int(input(\"Escriba las coordenada X \"))\n",
    "coordY = int(input(\"Escriba las coordenada Y \"))\n",
    "\n",
    "text = \"\"\n",
    "if (coordX > 0 and coordY > 0):\n",
    "    text = \"Cuadrante Q1\"\n",
    "elif (coordX < 0 and coordY > 0):\n",
    "    text = \"Cuadrante Q2\"\n",
    "elif (coordX < 0 and coordY < 0):\n",
    "    text = \"Cuadrante Q3\"\n",
    "elif (coordX > 0 and coordY < 0):\n",
    "    text = \"Cuadrante Q4\"\n",
    "else:\n",
    "    text = \"Origen de coordenadas\"\n",
    "print (text)"
   ]
  },
  {
   "cell_type": "markdown",
   "metadata": {},
   "source": [
    "5. Escribe una secuencia de instrucciones que permitan leer un número entero es cuadrado perfecto o no (piensa la mejor forma de hacerlo con lo que has aprendido hasta ahora)"
   ]
  },
  {
   "cell_type": "code",
   "execution_count": 4,
   "metadata": {},
   "outputs": [
    {
     "name": "stdout",
     "output_type": "stream",
     "text": [
      "Escribe un número:5\n",
      "No es un numero perfecto\n"
     ]
    }
   ],
   "source": [
    "import math\n",
    "x = int(input(\"Escribe un número:\"))\n",
    "n = math.sqrt(x)\n",
    "if (n * n == x):\n",
    "    print(\"Es numero perfecto\")\n",
    "else:\n",
    "    print(\"No es un numero perfecto\")"
   ]
  },
  {
   "cell_type": "markdown",
   "metadata": {},
   "source": [
    "6. Escribe una expresión que permita determinar si un número entero positivo puede corresponder a un año bisiesto o no. Se consideran años bisiestos aquellos cuyo número es divisible por cuatro excepto los años que son múltiplos de 100, a no ser que lo sean de 400 (por ejemplo el año 2000 fue bisiesto pero el 2100 no lo será)."
   ]
  },
  {
   "cell_type": "code",
   "execution_count": 9,
   "metadata": {},
   "outputs": [
    {
     "name": "stdout",
     "output_type": "stream",
     "text": [
      "Escribe un año:2004\n",
      "Es un año bisiesto\n"
     ]
    }
   ],
   "source": [
    "import math\n",
    "anno = int(input(\"Escribe un año:\"))\n",
    "if (math.fmod(anno, 4) == 0 and (math.fmod(anno, 100) != 0 or math.fmod(anno, 400) == 0)):\n",
    "    print(\"Es un año bisiesto\")\n",
    "else:\n",
    "    print(\"No un año bisiesto\")"
   ]
  },
  {
   "cell_type": "markdown",
   "metadata": {},
   "source": [
    "7. Busca la imagen de un tablero de ajedrez en Google y fíjate en la nomenclatura de las casillas. Escribe una expresión lea una letra y un número de teclado correspondiente a una casilla de un tablero de ajedrez y nos indique si esta casilla es negra o blanca."
   ]
  },
  {
   "cell_type": "code",
   "execution_count": 18,
   "metadata": {},
   "outputs": [
    {
     "name": "stdout",
     "output_type": "stream",
     "text": [
      "Escribe la letra: E\n",
      "Escribe el numero:4\n",
      "Blanco\n"
     ]
    }
   ],
   "source": [
    "import math\n",
    "horizontalValues = [\"A\", \"B\", \"C\", \"D\", \"E\", \"F\", \"G\", \"H\"]\n",
    "letra = input(\"Escribe la letra: \")\n",
    "x = horizontalValues.index(letra) + 1\n",
    "y = int(input(\"Escribe el numero:\"))\n",
    "if (math.fmod(y, 2) == 0):\n",
    "    if (math.fmod(x, 2) == 0):\n",
    "        print(\"Negro\")\n",
    "    else:\n",
    "        print(\"Blanco\")\n",
    "else:\n",
    "    if (math.fmod(x, 2) == 0):\n",
    "        print(\"Blanco\")\n",
    "    else:\n",
    "        print(\"Negro\")\n"
   ]
  }
 ],
 "metadata": {
  "kernelspec": {
   "display_name": "Python 3",
   "language": "python",
   "name": "python3"
  },
  "language_info": {
   "codemirror_mode": {
    "name": "ipython",
    "version": 3
   },
   "file_extension": ".py",
   "mimetype": "text/x-python",
   "name": "python",
   "nbconvert_exporter": "python",
   "pygments_lexer": "ipython3",
   "version": "3.7.7"
  }
 },
 "nbformat": 4,
 "nbformat_minor": 4
}
