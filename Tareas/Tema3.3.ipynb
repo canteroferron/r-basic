{
 "cells": [
  {
   "cell_type": "markdown",
   "metadata": {},
   "source": [
    "1. Crea una función que reciba los tres coeficientes a, b y c para resolver una ecuación de segundo grado. Muestra la solución por pantalla y ayúdate de la librería Math para acceder a la función raíz cuadrada."
   ]
  },
  {
   "cell_type": "code",
   "execution_count": 14,
   "metadata": {},
   "outputs": [
    {
     "name": "stdout",
     "output_type": "stream",
     "text": [
      "Las soluciones de la ecuación son:\n",
      "3.0\n",
      "2.0\n"
     ]
    }
   ],
   "source": [
    "import math\n",
    "\n",
    "def EcuacionSegundoGrado(A, B, C):\n",
    "    if ((B**2)-4*A*C) < 0:\n",
    "      print(\"La solución de la ecuación es con números complejos\")\n",
    "    else:\n",
    "      x1 = (-B+math.sqrt(B**2-(4*A*C)))/(2*A)\n",
    "      x2 = (-B-math.sqrt(B**2-(4*A*C)))/(2*A)\n",
    "      print(\"Las soluciones de la ecuación son:\")\n",
    "      print(x1)\n",
    "      print(x2)\n",
    "\n",
    "EcuacionSegundoGrado(1, -5, 6)"
   ]
  },
  {
   "cell_type": "markdown",
   "metadata": {},
   "source": [
    "2. Crea una función que lea una frase de teclado y nos diga si es o no un palíndromo (frase que se lee igual de izquierda a derecha o al revés como por ejemplo La ruta nos aportó otro paso natural.)"
   ]
  },
  {
   "cell_type": "code",
   "execution_count": 15,
   "metadata": {},
   "outputs": [
    {
     "name": "stdout",
     "output_type": "stream",
     "text": [
      "Ingrese una frase\n",
      "peep\n"
     ]
    },
    {
     "data": {
      "text/plain": [
       "True"
      ]
     },
     "execution_count": 15,
     "metadata": {},
     "output_type": "execute_result"
    }
   ],
   "source": [
    "import numpy as np\n",
    "\n",
    "frase = input(\"Ingrese una frase\\n\")\n",
    "L = []\n",
    "for c in frase:\n",
    "    L.append(c)\n",
    "x = np.array(L)\n",
    "xRev = x[::-1]\n",
    "np.array_equal(x, xRev)"
   ]
  },
  {
   "cell_type": "markdown",
   "metadata": {},
   "source": [
    "3. Crea un diccionario que tenga por claves los números del 1 al 10 y como valores sus raíces cuadradas"
   ]
  },
  {
   "cell_type": "code",
   "execution_count": 16,
   "metadata": {
    "scrolled": true
   },
   "outputs": [
    {
     "name": "stdout",
     "output_type": "stream",
     "text": [
      "{1: 1.0, 2: 1.4142135623730951, 3: 1.7320508075688772, 4: 2.0, 5: 2.23606797749979, 6: 2.449489742783178, 7: 2.6457513110645907, 8: 2.8284271247461903, 9: 3.0}\n"
     ]
    }
   ],
   "source": [
    "dic = {}\n",
    "for i in range(1, 10):\n",
    "    dic[i] = math.sqrt(i)\n",
    "print(dic)"
   ]
  },
  {
   "cell_type": "markdown",
   "metadata": {},
   "source": [
    "4.Crea un diccionario que tenga como claves las letras del alfabeto castellano y como valores los símbolos del código morse (los tienes todos en la Wikipedia). A continuación crea un programa que lea una frase del teclado y te la convierta a Morse utilizando el diccionario anterior."
   ]
  },
  {
   "cell_type": "code",
   "execution_count": 20,
   "metadata": {},
   "outputs": [
    {
     "name": "stdout",
     "output_type": "stream",
     "text": [
      "Ingrese una frase\n",
      "dfsdfsd\n",
      "['-..', '..-.', '...', '-..', '..-.', '...', '-..']\n"
     ]
    }
   ],
   "source": [
    "MORSE_CODE_DICT = { \n",
    "    'A':'.-', \n",
    "    'B':'-...', \n",
    "    'C':'-.-.', \n",
    "    'D':'-..', \n",
    "    'E':'.', \n",
    "    'F':'..-.', \n",
    "    'G':'--.', \n",
    "    'H':'....', \n",
    "    'I':'..', \n",
    "    'J':'.---', \n",
    "    'K':'-.-', \n",
    "    'L':'.-..', \n",
    "    'M':'--', \n",
    "    'N':'-.', \n",
    "    'O':'---', \n",
    "    'P':'.--.', \n",
    "    'Q':'--.-', \n",
    "    'R':'.-.', \n",
    "    'S':'...', \n",
    "    'T':'-', \n",
    "    'U':'..-', \n",
    "    'V':'...-', \n",
    "    'W':'.--', \n",
    "    'X':'-..-', \n",
    "    'Y':'-.--', \n",
    "    'Z':'--..', \n",
    "    '1':'.----', \n",
    "    '2':'..---', \n",
    "    '3':'...--', \n",
    "    '4':'....-', \n",
    "    '5':'.....', \n",
    "    '6':'-....', \n",
    "    '7':'--...', \n",
    "    '8':'---..', \n",
    "    '9':'----.', \n",
    "    '0':'-----', \n",
    "    ', ':'--..--', \n",
    "    '.':'.-.-.-', \n",
    "    '?':'..--..', \n",
    "    '/':'-..-.', \n",
    "    '-':'-....-', \n",
    "    '(':'-.--.', \n",
    "    ')':'-.--.-',\n",
    "    ' ':' '}\n",
    "\n",
    "frase = input(\"Ingrese una frase\\n\")\n",
    "L = []\n",
    "for c in frase:\n",
    "    L.append(MORSE_CODE_DICT[c.upper()])\n",
    "print(L)\n"
   ]
  },
  {
   "cell_type": "markdown",
   "metadata": {},
   "source": [
    "5. Crea una función que dados dos diccionarios nos diga que claves están presentes en ambos."
   ]
  },
  {
   "cell_type": "code",
   "execution_count": 23,
   "metadata": {},
   "outputs": [
    {
     "name": "stdout",
     "output_type": "stream",
     "text": [
      "['B']\n"
     ]
    }
   ],
   "source": [
    "def compareDic(dic1, dic2):\n",
    "    ret = []\n",
    "    for key in dic1.keys():\n",
    "        if (key in dic2):\n",
    "            ret.append(key)\n",
    "    return ret\n",
    "\n",
    "dic1 = {'A':'1', 'B':'2', 'C':'3'}\n",
    "dic2 = {'D':'1', 'B':'2', 'F':'3'}\n",
    "print(compareDic(dic1, dic2))"
   ]
  },
  {
   "cell_type": "markdown",
   "metadata": {},
   "source": [
    "6. Crea una función que dado un número N nos diga si es primo o no (tiene que ir dividiendo por todos los números x comprendidos entre 2 y el propio número N menos uno y ver si el cociente de N/x tiene resto entero o no)."
   ]
  },
  {
   "cell_type": "code",
   "execution_count": 16,
   "metadata": {},
   "outputs": [
    {
     "name": "stdout",
     "output_type": "stream",
     "text": [
      "Ingrese una frase: 19\n"
     ]
    },
    {
     "data": {
      "text/plain": [
       "True"
      ]
     },
     "execution_count": 16,
     "metadata": {},
     "output_type": "execute_result"
    }
   ],
   "source": [
    "def esPrimo(N):\n",
    "    ret = True\n",
    "    if (N > 1):\n",
    "        x = 2\n",
    "        while (x < N and ret == True):\n",
    "            resto = N%x\n",
    "            ret = resto != 0;\n",
    "            x += 1\n",
    "    return ret\n",
    "\n",
    "numero = int(input(\"Ingrese una frase: \"))\n",
    "esPrimo(numero)\n",
    "        "
   ]
  },
  {
   "cell_type": "markdown",
   "metadata": {},
   "source": [
    "7. Investiga la documentación de la clase string y crea un método que lea una frase del teclado y escriba la primera letra de cada palabra en Mayúscula."
   ]
  },
  {
   "cell_type": "code",
   "execution_count": 25,
   "metadata": {},
   "outputs": [
    {
     "name": "stdout",
     "output_type": "stream",
     "text": [
      "Ingrese una frase\n",
      "   Hola    que   tal   ?\n",
      "Hola Que Tal ? \n"
     ]
    }
   ],
   "source": [
    "def capitalizeFrase(frase):\n",
    "    ret = \"\"\n",
    "    frase = frase.strip()\n",
    "    fraseL = frase.split(\" \")\n",
    "    for c in fraseL:\n",
    "        if (c != ''):\n",
    "            ret = ret + c.capitalize() + ' '\n",
    "    return ret\n",
    "\n",
    "print (capitalizeFrase(input(\"Ingrese una frase\\n\")))"
   ]
  },
  {
   "cell_type": "markdown",
   "metadata": {},
   "source": [
    "8. Crea una función que calcule el máximo común divisor de dos números introducidos por el usuario por teclado."
   ]
  },
  {
   "cell_type": "code",
   "execution_count": 26,
   "metadata": {},
   "outputs": [
    {
     "name": "stdout",
     "output_type": "stream",
     "text": [
      "Introduce el primer numero: 65\n",
      "Introduce el segundo numero: 41\n",
      "El máximo común divisor de  65  y  41  es  1\n"
     ]
    }
   ],
   "source": [
    "def mcd(a, b):\n",
    "    resto = 0\n",
    "    while(b > 0):\n",
    "        resto = b\n",
    "        b = a % b\n",
    "        a = resto\n",
    "    return a\n",
    "\n",
    "num1 = int(input(\"Introduce el primer numero: \"))\n",
    "num2 = int(input(\"Introduce el segundo numero: \"))\n",
    " \n",
    "print(\"El máximo común divisor de \", num1,\" y \", num2,\" es \", mcd(num1, num2))"
   ]
  },
  {
   "cell_type": "markdown",
   "metadata": {},
   "source": [
    "9. Investiga el Cifrado del César y crea una función que lo reproduzca en Python. Cada letra del mensaje original se desplaza tres posiciones en el alfabeto estándar. La A se convierte en la D, la B se convierte en la E, la C se convierte en la F... y cuando se acaba el alfabeto se le vuelve a dar la vuelta: la X se convierte en la A, la Y en la B y la X en la C. Los números no sufren ninguna modificación."
   ]
  },
  {
   "cell_type": "code",
   "execution_count": 46,
   "metadata": {},
   "outputs": [
    {
     "name": "stdout",
     "output_type": "stream",
     "text": [
      "Ingrese una frase\n",
      "Hola que tal ?\n",
      "jqnc swg vcn ?\n"
     ]
    }
   ],
   "source": [
    "import numpy as np\n",
    "\n",
    "alphabet = \"abcdefghijklmnopqrstuvwxyz\"\n",
    "alphabetL = []\n",
    "for c in alphabet:\n",
    "    alphabetL.append(c)\n",
    "alphabetCesar = np.array(alphabetL)\n",
    "alphabetCesar = np.append(alphabetCesar, alphabetCesar[0:3])\n",
    "\n",
    "def convertCesar(sentence):\n",
    "    ret = \"\"\n",
    "    for c in sentence:\n",
    "        letter = str(c)\n",
    "        letter = letter.lower()\n",
    "        if letter in alphabetCesar:\n",
    "            ocurrence = np.where(alphabetCesar == letter)\n",
    "            ret = ret + str(alphabetCesar[ocurrence[0][0] + 2])\n",
    "        else:\n",
    "            ret = ret + letter\n",
    "    return ret;\n",
    "\n",
    "\n",
    "print(convertCesar(input(\"Ingrese una frase\\n\")))        \n"
   ]
  },
  {
   "cell_type": "markdown",
   "metadata": {},
   "source": [
    "10. Dado una lista de nombres de persona, escribe un algoritmo que los ordene de tres formas diferentes:\n",
    "\n",
    "A. De forma alfabética\n",
    "B. De forma alfabética invertida\n",
    "C. De nombre más corto al más largo.\n"
   ]
  },
  {
   "cell_type": "code",
   "execution_count": 86,
   "metadata": {},
   "outputs": [
    {
     "name": "stdout",
     "output_type": "stream",
     "text": [
      "Alfabéticamente:  ['Abigail' 'Juan' 'Pepe' 'Rodolfo']\n",
      "Alfabéticamente inverso:  ['Rodolfo' 'Pepe' 'Juan' 'Abigail']\n",
      "Del nombre mas corto al mas largo:  ['Pepe' 'Juan' 'Rodolfo' 'Abigail']\n"
     ]
    }
   ],
   "source": [
    "import numpy as np\n",
    "\n",
    "class Name:\n",
    "    def __init__(self, name, length):\n",
    "        self.name = name\n",
    "        self.length = length\n",
    "    \n",
    "    def __str__(self):\n",
    "         return f'{self.name}({self.length})'\n",
    "    \n",
    "    def __repr__(self):\n",
    "         return str(self)\n",
    "\n",
    "names = np.array([\"Pepe\", \"Juan\", \"Rodolfo\", \"Abigail\"])\n",
    "\n",
    "namesAndLength = []\n",
    "for e in names:\n",
    "    eLen = len(e)\n",
    "    namesAndLength.append(Name(e, eLen))\n",
    "\n",
    "namesAndLength.sort(key = lambda x: x.length)\n",
    "sortNamesByLength = np.array([])\n",
    "for n in namesAndLength:\n",
    "    sortNamesByLength = np.append(sortNamesByLength, n.name)\n",
    "\n",
    "print(\"Alfabéticamente: \", np.sort(names))\n",
    "print(\"Alfabéticamente inverso: \", np.sort(names)[::-1])\n",
    "print(\"Del nombre mas corto al mas largo: \", sortNamesByLength)\n"
   ]
  },
  {
   "cell_type": "code",
   "execution_count": null,
   "metadata": {},
   "outputs": [],
   "source": []
  }
 ],
 "metadata": {
  "kernelspec": {
   "display_name": "Python 3",
   "language": "python",
   "name": "python3"
  },
  "language_info": {
   "codemirror_mode": {
    "name": "ipython",
    "version": 3
   },
   "file_extension": ".py",
   "mimetype": "text/x-python",
   "name": "python",
   "nbconvert_exporter": "python",
   "pygments_lexer": "ipython3",
   "version": "3.7.7"
  }
 },
 "nbformat": 4,
 "nbformat_minor": 4
}
