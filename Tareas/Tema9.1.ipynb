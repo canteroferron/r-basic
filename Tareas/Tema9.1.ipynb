{
 "cells": [
  {
   "cell_type": "code",
   "execution_count": 67,
   "metadata": {},
   "outputs": [],
   "source": [
    "import pandas as pd\n",
    "import numpy as np\n",
    "\n",
    "df = pd.read_csv(\"../data/datacrab.txt\", delimiter=' ')\n",
    "cw = df.width\n",
    "n = cw.size\n",
    "\n",
    "def calculateExtremes(k):\n",
    "    presicion = 0.1\n",
    "    \n",
    "    A = (np.diff([min(cw), max(cw)]) / k)[0]\n",
    "    A = np.around(A, 1) + presicion\n",
    "\n",
    "    L1 = min(cw) - 1/2 * presicion\n",
    "    L = L1 + A * range(0, 11)\n",
    "    \n",
    "    return L\n",
    "\n",
    "def calculateClassMark(L):\n",
    "    return (L[1:L.size-1] + L[2:L.size]) / 2\n",
    "\n"
   ]
  },
  {
   "cell_type": "markdown",
   "metadata": {},
   "source": [
    "1. Da el algoritmo para reproducir el proceso de generación de clases y sus marcas respectivo para el número de clases obtenido con la regla de la Scott en  Python."
   ]
  },
  {
   "cell_type": "code",
   "execution_count": 72,
   "metadata": {},
   "outputs": [
    {
     "data": {
      "text/plain": [
       "array([22.9, 24.2, 25.5, 26.8, 28.1, 29.4, 30.7, 32. , 33.3])"
      ]
     },
     "execution_count": 72,
     "metadata": {},
     "output_type": "execute_result"
    }
   ],
   "source": [
    "AS = 3.5 * np.std(cw) * n**(-1/3)\n",
    "k1 = np.ceil((np.diff([min(cw), max(cw)]) / AS)[0])\n",
    "\n",
    "L = calculateExtremes(k1)\n",
    "X = calculateClassMark(L)\n",
    "X"
   ]
  },
  {
   "cell_type": "markdown",
   "metadata": {},
   "source": [
    "2. Da el algoritmo para reproducir el proceso de generación de clases y sus marcas respectivo para el número de clases obtenido con la regla de la raíz en R o en Python."
   ]
  },
  {
   "cell_type": "code",
   "execution_count": 69,
   "metadata": {},
   "outputs": [
    {
     "data": {
      "text/plain": [
       "array([22.45, 23.45, 24.45, 25.45, 26.45, 27.45, 28.45, 29.45, 30.45])"
      ]
     },
     "execution_count": 69,
     "metadata": {},
     "output_type": "execute_result"
    }
   ],
   "source": [
    "k2 = np.ceil(np.sqrt(n))\n",
    "L = calculateExtremes(k2)\n",
    "X = calculateClassMark(L)\n",
    "X"
   ]
  },
  {
   "cell_type": "markdown",
   "metadata": {},
   "source": [
    "3. Da el algoritmo para reproducir el proceso de generación de clases y sus marcas respectivo para el número de clases obtenido con la regla de la Sturges en R o en Python"
   ]
  },
  {
   "cell_type": "code",
   "execution_count": 74,
   "metadata": {},
   "outputs": [
    {
     "data": {
      "text/plain": [
       "array([23.2, 24.7, 26.2, 27.7, 29.2, 30.7, 32.2, 33.7, 35.2])"
      ]
     },
     "execution_count": 74,
     "metadata": {},
     "output_type": "execute_result"
    }
   ],
   "source": [
    "k3 = np.ceil(1 + np.log2(n))\n",
    "\n",
    "L = calculateExtremes(k3)\n",
    "X = calculateClassMark(L)\n",
    "X"
   ]
  },
  {
   "cell_type": "markdown",
   "metadata": {},
   "source": [
    "4. Da el algoritmo para reproducir el proceso de generación de clases y sus marcas respectivo para el número de clases obtenido con la regla de la  Freedman-Diaconis en R o en Python."
   ]
  },
  {
   "cell_type": "code",
   "execution_count": 77,
   "metadata": {},
   "outputs": [
    {
     "data": {
      "text/plain": [
       "array([ 39.85,  52.45,  65.05,  77.65,  90.25, 102.85, 115.45, 128.05,\n",
       "       140.65])"
      ]
     },
     "execution_count": 77,
     "metadata": {},
     "output_type": "execute_result"
    }
   ],
   "source": [
    "AFD = 2 * np.quantile(cw, 0.75) - np.quantile(cw, 0.25) * n**(-1/3)\n",
    "k4 = np.ceil((np.diff([min(cw), max(cw)]) / AFD)[0])\n",
    "\n",
    "L = calculateExtremes(k4)\n",
    "X = calculateClassMark(L)\n",
    "X"
   ]
  },
  {
   "cell_type": "code",
   "execution_count": null,
   "metadata": {},
   "outputs": [],
   "source": []
  }
 ],
 "metadata": {
  "kernelspec": {
   "display_name": "Python 3",
   "language": "python",
   "name": "python3"
  },
  "language_info": {
   "codemirror_mode": {
    "name": "ipython",
    "version": 3
   },
   "file_extension": ".py",
   "mimetype": "text/x-python",
   "name": "python",
   "nbconvert_exporter": "python",
   "pygments_lexer": "ipython3",
   "version": "3.7.7"
  }
 },
 "nbformat": 4,
 "nbformat_minor": 4
}
